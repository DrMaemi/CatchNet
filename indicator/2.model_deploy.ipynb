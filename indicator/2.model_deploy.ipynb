{
 "cells": [
  {
   "cell_type": "markdown",
   "metadata": {},
   "source": [
    "# 지표: 반복하기 - 데이터 EDA, 회귀 모델 학습, 배포"
   ]
  },
  {
   "cell_type": "code",
   "execution_count": 1,
   "metadata": {},
   "outputs": [],
   "source": [
    "import pickle\n",
    "import numpy as np\n",
    "from sklearn.linear_model import LinearRegression\n",
    "from sklearn.preprocessing import MinMaxScaler\n",
    "import matplotlib.pylab as plt\n",
    "import matplotlib as mpl"
   ]
  },
  {
   "cell_type": "markdown",
   "metadata": {},
   "source": [
    "## 데이터 불러오기"
   ]
  },
  {
   "cell_type": "code",
   "execution_count": 2,
   "metadata": {},
   "outputs": [
    {
     "name": "stdout",
     "output_type": "stream",
     "text": [
      "type(X_data): <class 'list'>, len(X_data): 300\n",
      "type(Y_data): <class 'list'>, len(Y_data): 300\n"
     ]
    }
   ],
   "source": [
    "with open('X_data.pkl', 'rb') as f:\n",
    "    X_data = pickle.load(f)\n",
    "\n",
    "with open('Y_data.pkl', 'rb') as f:\n",
    "    Y_data = pickle.load(f)\n",
    "\n",
    "print(f'type(X_data): {type(X_data)}, len(X_data): {len(X_data)}')\n",
    "print(f'type(Y_data): {type(Y_data)}, len(Y_data): {len(Y_data)}')"
   ]
  },
  {
   "cell_type": "markdown",
   "metadata": {},
   "source": [
    "## 데이터 정규화"
   ]
  },
  {
   "cell_type": "code",
   "execution_count": 3,
   "metadata": {},
   "outputs": [
    {
     "data": {
      "text/plain": [
       "array([[0.32671984],\n",
       "       [0.        ],\n",
       "       [0.03588252],\n",
       "       [0.22116288],\n",
       "       [0.32812547]])"
      ]
     },
     "execution_count": 3,
     "metadata": {},
     "output_type": "execute_result"
    }
   ],
   "source": [
    "X_data = np.array(X_data).reshape(-1, 1)\n",
    "scaler = MinMaxScaler()\n",
    "scaler.fit(X_data)\n",
    "X_data = scaler.transform(X_data)\n",
    "X_data[:5]"
   ]
  },
  {
   "cell_type": "markdown",
   "metadata": {},
   "source": [
    "## 회귀 모델 학습 및 시각화"
   ]
  },
  {
   "cell_type": "code",
   "execution_count": 4,
   "metadata": {},
   "outputs": [
    {
     "data": {
      "image/png": "[encoded data removed]",
      "text/plain": [
       "<Figure size 432x288 with 1 Axes>"
      ]
     },
     "metadata": {
      "needs_background": "light"
     },
     "output_type": "display_data"
    },
    {
     "name": "stdout",
     "output_type": "stream",
     "text": [
      "model coefficient: [5.13140541]\n",
      "model intercept: 3.320276343191396\n"
     ]
    }
   ],
   "source": [
    "mpl.rc('font', family='Malgun Gothic') #한글 폰트 설정\n",
    "\n",
    "model = LinearRegression()\n",
    "npxl = np.array(X_data)\n",
    "npyl = np.array(Y_data)\n",
    "model.fit(npxl.reshape(-1, 1), npyl)\n",
    "\n",
    "plt.scatter(npxl, npyl, c='red')\n",
    "\n",
    "xmin, xmax = plt.xlim()\n",
    "ymin, ymax = plt.ylim()\n",
    "x_plot = np.linspace(xmin, xmax)\n",
    "\n",
    "plt.plot(x_plot, x_plot*model.coef_ + model.intercept_, color='blue')\n",
    "plt.title('지표: 반복하기 - 선형 회귀 모델')\n",
    "plt.xlabel('X')\n",
    "plt.ylabel('상담사 점수 예측')\n",
    "plt.show()\n",
    "\n",
    "print(f'model coefficient: {model.coef_}')\n",
    "print(f'model intercept: {model.intercept_}')"
   ]
  },
  {
   "cell_type": "markdown",
   "metadata": {},
   "source": [
    "## 모델 배포"
   ]
  },
  {
   "cell_type": "code",
   "execution_count": 5,
   "metadata": {},
   "outputs": [
    {
     "name": "stdout",
     "output_type": "stream",
     "text": [
      "Deployed.\n"
     ]
    }
   ],
   "source": [
    "with open('model.pkl', 'wb') as f:\n",
    "    pickle.dump(model, f)\n",
    "\n",
    "print('Deployed.')"
   ]
  },
  {
   "cell_type": "markdown",
   "metadata": {},
   "source": [
    "## R2 스퀘어(결정 계수) 계산"
   ]
  },
  {
   "cell_type": "code",
   "execution_count": 6,
   "metadata": {},
   "outputs": [
    {
     "name": "stdout",
     "output_type": "stream",
     "text": [
      "r2_score: 0.6119985403748613\n"
     ]
    }
   ],
   "source": [
    "from sklearn.metrics import r2_score\n",
    "\n",
    "preds = []\n",
    "\n",
    "for x in npxl:\n",
    "    pred = model.predict([x])\n",
    "    preds.append(pred)\n",
    "\n",
    "preds = np.array(preds)\n",
    "print(f'r2_score: {r2_score(npyl, preds)}')"
   ]
  }
 ],
 "metadata": {
  "interpreter": {
   "hash": "1fc89e7f5f440fe371e20910240cbe12a6210c3b77c81163a9ce36bd489daf55"
  },
  "kernelspec": {
   "display_name": "Python 3.7.11 64-bit ('aws-rekog': conda)",
   "language": "python",
   "name": "python3"
  },
  "language_info": {
   "codemirror_mode": {
    "name": "ipython",
    "version": 3
   },
   "file_extension": ".py",
   "mimetype": "text/x-python",
   "name": "python",
   "nbconvert_exporter": "python",
   "pygments_lexer": "ipython3",
   "version": "3.7.11"
  },
  "orig_nbformat": 4
 },
 "nbformat": 4,
 "nbformat_minor": 2
}
